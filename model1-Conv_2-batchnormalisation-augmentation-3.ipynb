{
 "cells": [
  {
   "cell_type": "code",
   "execution_count": 1,
   "metadata": {},
   "outputs": [
    {
     "name": "stderr",
     "output_type": "stream",
     "text": [
      "2022-11-06 23:04:24.674785: I tensorflow/core/platform/cpu_feature_guard.cc:193] This TensorFlow binary is optimized with oneAPI Deep Neural Network Library (oneDNN) to use the following CPU instructions in performance-critical operations:  SSE4.1 SSE4.2\n",
      "To enable them in other operations, rebuild TensorFlow with the appropriate compiler flags.\n"
     ]
    }
   ],
   "source": [
    "import tensorflow as tf\n",
    "import keras\n",
    "from keras.callbacks import *\n",
    "import numpy as np\n",
    "import pandas as pd\n",
    "import matplotlib.pyplot as plt\n",
    "from keras.models import Sequential\n",
    "from keras.layers import *"
   ]
  },
  {
   "cell_type": "code",
   "execution_count": 2,
   "metadata": {},
   "outputs": [],
   "source": [
    "traindata = pd.read_csv('sign_mnist_train.csv')"
   ]
  },
  {
   "cell_type": "code",
   "execution_count": 3,
   "metadata": {},
   "outputs": [],
   "source": [
    "trainlabel=traindata['label'].values"
   ]
  },
  {
   "cell_type": "code",
   "execution_count": 4,
   "metadata": {},
   "outputs": [],
   "source": [
    "traindata.drop('label',inplace=True,axis=1)\n",
    "trainimages = traindata.values"
   ]
  },
  {
   "cell_type": "code",
   "execution_count": 5,
   "metadata": {},
   "outputs": [],
   "source": [
    "trainimages=trainimages.reshape(-1,28,28,1)"
   ]
  },
  {
   "cell_type": "code",
   "execution_count": 6,
   "metadata": {},
   "outputs": [],
   "source": [
    "testdata = pd.read_csv('sign_mnist_test.csv')"
   ]
  },
  {
   "cell_type": "code",
   "execution_count": 7,
   "metadata": {},
   "outputs": [],
   "source": [
    "testlabel=testdata['label'].values"
   ]
  },
  {
   "cell_type": "code",
   "execution_count": 8,
   "metadata": {},
   "outputs": [],
   "source": [
    "testdata.drop('label',inplace=True,axis=1)\n",
    "testimages = testdata.values"
   ]
  },
  {
   "cell_type": "code",
   "execution_count": 9,
   "metadata": {},
   "outputs": [],
   "source": [
    "testimages=testimages.reshape(-1,28,28,1)"
   ]
  },
  {
   "cell_type": "code",
   "execution_count": 10,
   "metadata": {},
   "outputs": [],
   "source": [
    "from keras.preprocessing.image import ImageDataGenerator"
   ]
  },
  {
   "cell_type": "code",
   "execution_count": 11,
   "metadata": {},
   "outputs": [],
   "source": [
    "traingen=ImageDataGenerator(rotation_range=40,zoom_range=0.1,width_shift_range=0.1,height_shift_range=0.1,\n",
    "                  shear_range=0.1,horizontal_flip=True,rescale=1/255.0,validation_split=0.1)"
   ]
  },
  {
   "cell_type": "code",
   "execution_count": 12,
   "metadata": {},
   "outputs": [],
   "source": [
    "traindata_generator = traingen.flow(trainimages,trainlabel,subset='training')\n",
    "validationdata_generator = traingen.flow(trainimages,trainlabel,subset='validation')"
   ]
  },
  {
   "cell_type": "code",
   "execution_count": 13,
   "metadata": {},
   "outputs": [],
   "source": [
    "testgen=ImageDataGenerator(rescale=1/255.0)\n",
    "testdata_generator = testgen.flow(testimages,testlabel)"
   ]
  },
  {
   "cell_type": "code",
   "execution_count": 14,
   "metadata": {},
   "outputs": [],
   "source": [
    "model=Sequential([])\n",
    "\n",
    "model.add(Conv2D(64,(3,3),activation=\"relu\",input_shape=(28,28,1)))\n",
    "model.add(BatchNormalization())\n",
    "# model.add(Conv2D(64,(3,3),activation=\"relu\"))\n",
    "# model.add(BatchNormalization())\n",
    "model.add(MaxPooling2D(2,2))\n",
    "#model.add(Dropout(0.4))\n",
    "\n",
    "model.add(Conv2D(128,(3,3),activation=\"relu\"))\n",
    "model.add(BatchNormalization())\n",
    "# model.add(Conv2D(128,(3,3),activation=\"relu\"))\n",
    "# model.add(BatchNormalization())\n",
    "model.add(MaxPooling2D(2,2))\n",
    "#model.add(Dropout(0.4))\n",
    "\n",
    "model.add(Flatten())\n",
    "model.add(BatchNormalization())\n",
    "#model.add(Dropout(0.4))\n",
    "model.add(Dense(256,activation=\"relu\"))\n",
    "model.add(BatchNormalization())\n",
    "#model.add(Dropout(0.4))\n",
    "model.add(Dense(26,activation=\"softmax\"))\n"
   ]
  },
  {
   "cell_type": "code",
   "execution_count": 15,
   "metadata": {},
   "outputs": [],
   "source": [
    "model.compile(loss=\"sparse_categorical_crossentropy\",optimizer='adam',metrics=['accuracy'])"
   ]
  },
  {
   "cell_type": "code",
   "execution_count": 16,
   "metadata": {},
   "outputs": [
    {
     "name": "stdout",
     "output_type": "stream",
     "text": [
      "Model: \"sequential\"\n",
      "_________________________________________________________________\n",
      " Layer (type)                Output Shape              Param #   \n",
      "=================================================================\n",
      " conv2d (Conv2D)             (None, 26, 26, 64)        640       \n",
      "                                                                 \n",
      " batch_normalization (BatchN  (None, 26, 26, 64)       256       \n",
      " ormalization)                                                   \n",
      "                                                                 \n",
      " max_pooling2d (MaxPooling2D  (None, 13, 13, 64)       0         \n",
      " )                                                               \n",
      "                                                                 \n",
      " conv2d_1 (Conv2D)           (None, 11, 11, 128)       73856     \n",
      "                                                                 \n",
      " batch_normalization_1 (Batc  (None, 11, 11, 128)      512       \n",
      " hNormalization)                                                 \n",
      "                                                                 \n",
      " max_pooling2d_1 (MaxPooling  (None, 5, 5, 128)        0         \n",
      " 2D)                                                             \n",
      "                                                                 \n",
      " flatten (Flatten)           (None, 3200)              0         \n",
      "                                                                 \n",
      " batch_normalization_2 (Batc  (None, 3200)             12800     \n",
      " hNormalization)                                                 \n",
      "                                                                 \n",
      " dense (Dense)               (None, 256)               819456    \n",
      "                                                                 \n",
      " batch_normalization_3 (Batc  (None, 256)              1024      \n",
      " hNormalization)                                                 \n",
      "                                                                 \n",
      " dense_1 (Dense)             (None, 26)                6682      \n",
      "                                                                 \n",
      "=================================================================\n",
      "Total params: 915,226\n",
      "Trainable params: 907,930\n",
      "Non-trainable params: 7,296\n",
      "_________________________________________________________________\n"
     ]
    }
   ],
   "source": [
    "model.summary()"
   ]
  },
  {
   "cell_type": "code",
   "execution_count": 17,
   "metadata": {},
   "outputs": [],
   "source": [
    "# Define a Callback class that stops training once accuracy reaches 97.0%\n",
    "class myCallback(Callback):\n",
    "  def on_epoch_end(self, epoch, logs={}):\n",
    "    if(logs.get('val_accuracy')>0.995):\n",
    "      print(\"\\nReached 99.5% accuracy so cancelling training!\")\n",
    "      self.model.stop_training = True\n",
    "callback=myCallback()"
   ]
  },
  {
   "cell_type": "code",
   "execution_count": 18,
   "metadata": {},
   "outputs": [
    {
     "name": "stdout",
     "output_type": "stream",
     "text": [
      "Epoch 1/60\n",
      "773/773 [==============================] - 36s 43ms/step - loss: 1.2835 - accuracy: 0.6019 - val_loss: 1.1030 - val_accuracy: 0.6270\n",
      "Epoch 2/60\n",
      "773/773 [==============================] - 35s 44ms/step - loss: 0.4938 - accuracy: 0.8403 - val_loss: 0.8471 - val_accuracy: 0.7250\n",
      "Epoch 3/60\n",
      "773/773 [==============================] - 29s 36ms/step - loss: 0.3404 - accuracy: 0.8911 - val_loss: 0.7177 - val_accuracy: 0.7537\n",
      "Epoch 4/60\n",
      "773/773 [==============================] - 29s 36ms/step - loss: 0.2589 - accuracy: 0.9161 - val_loss: 0.7718 - val_accuracy: 0.7690\n",
      "Epoch 5/60\n",
      "773/773 [==============================] - 32s 40ms/step - loss: 0.2325 - accuracy: 0.9253 - val_loss: 0.2603 - val_accuracy: 0.9166\n",
      "Epoch 6/60\n",
      "773/773 [==============================] - 31s 38ms/step - loss: 0.1847 - accuracy: 0.9393 - val_loss: 0.3821 - val_accuracy: 0.8769\n",
      "Epoch 7/60\n",
      "773/773 [==============================] - 32s 40ms/step - loss: 0.1677 - accuracy: 0.9439 - val_loss: 0.9696 - val_accuracy: 0.7253\n",
      "Epoch 8/60\n",
      "773/773 [==============================] - 34s 42ms/step - loss: 0.1488 - accuracy: 0.9510 - val_loss: 3.3329 - val_accuracy: 0.5388\n",
      "Epoch 9/60\n",
      "773/773 [==============================] - 31s 38ms/step - loss: 0.1795 - accuracy: 0.9397 - val_loss: 0.1098 - val_accuracy: 0.9672\n",
      "Epoch 10/60\n",
      "773/773 [==============================] - 31s 38ms/step - loss: 0.1285 - accuracy: 0.9566 - val_loss: 0.2674 - val_accuracy: 0.9195\n",
      "Epoch 11/60\n",
      "773/773 [==============================] - 31s 38ms/step - loss: 0.1196 - accuracy: 0.9602 - val_loss: 0.7744 - val_accuracy: 0.8015\n",
      "Epoch 12/60\n",
      "773/773 [==============================] - 32s 40ms/step - loss: 0.1169 - accuracy: 0.9614 - val_loss: 147.2799 - val_accuracy: 0.1056\n",
      "Epoch 13/60\n",
      "773/773 [==============================] - 30s 37ms/step - loss: 0.1119 - accuracy: 0.9630 - val_loss: 0.1059 - val_accuracy: 0.9687\n",
      "Epoch 14/60\n",
      "773/773 [==============================] - 29s 36ms/step - loss: 0.0931 - accuracy: 0.9687 - val_loss: 0.2134 - val_accuracy: 0.9410\n",
      "Epoch 15/60\n",
      "773/773 [==============================] - 31s 38ms/step - loss: 0.0951 - accuracy: 0.9688 - val_loss: 2.1298 - val_accuracy: 0.6546\n",
      "Epoch 16/60\n",
      "773/773 [==============================] - 30s 37ms/step - loss: 0.0924 - accuracy: 0.9694 - val_loss: 2.4246 - val_accuracy: 0.6146\n",
      "Epoch 17/60\n",
      "773/773 [==============================] - 33s 41ms/step - loss: 0.0852 - accuracy: 0.9716 - val_loss: 0.1038 - val_accuracy: 0.9647\n",
      "Epoch 18/60\n",
      "773/773 [==============================] - 30s 37ms/step - loss: 0.0804 - accuracy: 0.9730 - val_loss: 0.7766 - val_accuracy: 0.8102\n",
      "Epoch 19/60\n",
      "773/773 [==============================] - 32s 40ms/step - loss: 0.0822 - accuracy: 0.9736 - val_loss: 0.1788 - val_accuracy: 0.9607\n",
      "Epoch 20/60\n",
      "773/773 [==============================] - 30s 37ms/step - loss: 0.0799 - accuracy: 0.9731 - val_loss: 0.1630 - val_accuracy: 0.9490\n",
      "Epoch 21/60\n",
      "773/773 [==============================] - 30s 37ms/step - loss: 0.0806 - accuracy: 0.9728 - val_loss: 1.5052 - val_accuracy: 0.8634\n",
      "Epoch 22/60\n",
      "773/773 [==============================] - 32s 39ms/step - loss: 0.0678 - accuracy: 0.9777 - val_loss: 0.3464 - val_accuracy: 0.8834\n",
      "Epoch 23/60\n",
      "773/773 [==============================] - 31s 38ms/step - loss: 0.0634 - accuracy: 0.9783 - val_loss: 0.1649 - val_accuracy: 0.9596\n",
      "Epoch 24/60\n",
      "773/773 [==============================] - 32s 39ms/step - loss: 0.0644 - accuracy: 0.9782 - val_loss: 0.7262 - val_accuracy: 0.9293\n",
      "Epoch 25/60\n",
      "773/773 [==============================] - 31s 39ms/step - loss: 0.0636 - accuracy: 0.9787 - val_loss: 0.9129 - val_accuracy: 0.8197\n",
      "Epoch 26/60\n",
      "773/773 [==============================] - 31s 39ms/step - loss: 0.0660 - accuracy: 0.9783 - val_loss: 0.0482 - val_accuracy: 0.9821\n",
      "Epoch 27/60\n",
      "773/773 [==============================] - 32s 40ms/step - loss: 0.0690 - accuracy: 0.9766 - val_loss: 0.0635 - val_accuracy: 0.9789\n",
      "Epoch 28/60\n",
      "773/773 [==============================] - 31s 39ms/step - loss: 0.0609 - accuracy: 0.9800 - val_loss: 0.0527 - val_accuracy: 0.9821\n",
      "Epoch 29/60\n",
      "773/773 [==============================] - 31s 39ms/step - loss: 0.0489 - accuracy: 0.9830 - val_loss: 0.1493 - val_accuracy: 0.9497\n",
      "Epoch 30/60\n",
      "773/773 [==============================] - 30s 37ms/step - loss: 0.0558 - accuracy: 0.9814 - val_loss: 0.2698 - val_accuracy: 0.9151\n",
      "Epoch 31/60\n",
      "773/773 [==============================] - 31s 39ms/step - loss: 0.0581 - accuracy: 0.9807 - val_loss: 0.4451 - val_accuracy: 0.8667\n",
      "Epoch 32/60\n",
      "773/773 [==============================] - 31s 38ms/step - loss: 0.0466 - accuracy: 0.9849 - val_loss: 0.1617 - val_accuracy: 0.9483\n",
      "Epoch 33/60\n",
      "773/773 [==============================] - 31s 38ms/step - loss: 0.0543 - accuracy: 0.9820 - val_loss: 0.9541 - val_accuracy: 0.8044\n",
      "Epoch 34/60\n",
      "773/773 [==============================] - 31s 39ms/step - loss: 0.0529 - accuracy: 0.9826 - val_loss: 1.4899 - val_accuracy: 0.7184\n",
      "Epoch 35/60\n",
      "773/773 [==============================] - 31s 38ms/step - loss: 0.0462 - accuracy: 0.9843 - val_loss: 0.0650 - val_accuracy: 0.9745\n",
      "Epoch 36/60\n",
      "773/773 [==============================] - 33s 41ms/step - loss: 0.0467 - accuracy: 0.9839 - val_loss: 0.1838 - val_accuracy: 0.9413\n",
      "Epoch 37/60\n",
      "773/773 [==============================] - 32s 40ms/step - loss: 0.0509 - accuracy: 0.9838 - val_loss: 0.0515 - val_accuracy: 0.9811\n",
      "Epoch 38/60\n",
      "773/773 [==============================] - 32s 39ms/step - loss: 0.0440 - accuracy: 0.9856 - val_loss: 0.3200 - val_accuracy: 0.9056\n",
      "Epoch 39/60\n",
      "773/773 [==============================] - 31s 39ms/step - loss: 0.0492 - accuracy: 0.9836 - val_loss: 0.0610 - val_accuracy: 0.9796\n",
      "Epoch 40/60\n",
      "773/773 [==============================] - 31s 38ms/step - loss: 0.0415 - accuracy: 0.9859 - val_loss: 0.1633 - val_accuracy: 0.9457\n",
      "Epoch 41/60\n",
      "773/773 [==============================] - 31s 39ms/step - loss: 0.0490 - accuracy: 0.9830 - val_loss: 0.0870 - val_accuracy: 0.9778\n",
      "Epoch 42/60\n",
      "773/773 [==============================] - 32s 40ms/step - loss: 0.0821 - accuracy: 0.9733 - val_loss: 0.0322 - val_accuracy: 0.9894\n",
      "Epoch 43/60\n",
      "773/773 [==============================] - 30s 37ms/step - loss: 0.0368 - accuracy: 0.9875 - val_loss: 11.1799 - val_accuracy: 0.5858\n",
      "Epoch 44/60\n",
      "773/773 [==============================] - 33s 40ms/step - loss: 0.0381 - accuracy: 0.9884 - val_loss: 0.0584 - val_accuracy: 0.9847\n",
      "Epoch 45/60\n",
      "773/773 [==============================] - 29s 35ms/step - loss: 0.0357 - accuracy: 0.9881 - val_loss: 0.0291 - val_accuracy: 0.9894\n",
      "Epoch 46/60\n",
      "773/773 [==============================] - 32s 39ms/step - loss: 0.0406 - accuracy: 0.9865 - val_loss: 0.1123 - val_accuracy: 0.9632\n",
      "Epoch 47/60\n",
      "773/773 [==============================] - 32s 40ms/step - loss: 0.0417 - accuracy: 0.9855 - val_loss: 0.0508 - val_accuracy: 0.9825\n",
      "Epoch 48/60\n",
      "773/773 [==============================] - 31s 39ms/step - loss: 0.0421 - accuracy: 0.9858 - val_loss: 0.0288 - val_accuracy: 0.9905\n",
      "Epoch 49/60\n",
      "773/773 [==============================] - 30s 37ms/step - loss: 0.0440 - accuracy: 0.9863 - val_loss: 1.6104 - val_accuracy: 0.6689\n",
      "Epoch 50/60\n",
      "773/773 [==============================] - 31s 39ms/step - loss: 0.0468 - accuracy: 0.9847 - val_loss: 0.0277 - val_accuracy: 0.9913\n",
      "Epoch 51/60\n",
      "773/773 [==============================] - 30s 37ms/step - loss: 0.0306 - accuracy: 0.9900 - val_loss: 0.3436 - val_accuracy: 0.9464\n",
      "Epoch 52/60\n",
      "773/773 [==============================] - 31s 39ms/step - loss: 0.0427 - accuracy: 0.9858 - val_loss: 0.0957 - val_accuracy: 0.9723\n",
      "Epoch 53/60\n",
      "773/773 [==============================] - 32s 40ms/step - loss: 0.0343 - accuracy: 0.9890 - val_loss: 0.4433 - val_accuracy: 0.8860\n",
      "Epoch 54/60\n",
      "773/773 [==============================] - 30s 37ms/step - loss: 0.0299 - accuracy: 0.9902 - val_loss: 0.6595 - val_accuracy: 0.8470\n",
      "Epoch 55/60\n",
      "773/773 [==============================] - 32s 40ms/step - loss: 0.0351 - accuracy: 0.9883 - val_loss: 0.0345 - val_accuracy: 0.9876\n",
      "Epoch 56/60\n",
      "773/773 [==============================] - 31s 39ms/step - loss: 0.0305 - accuracy: 0.9892 - val_loss: 0.0539 - val_accuracy: 0.9847\n",
      "Epoch 57/60\n",
      "773/773 [==============================] - 30s 37ms/step - loss: 0.0460 - accuracy: 0.9851 - val_loss: 0.1443 - val_accuracy: 0.9639\n",
      "Epoch 58/60\n",
      "773/773 [==============================] - 30s 37ms/step - loss: 0.0396 - accuracy: 0.9875 - val_loss: 0.0356 - val_accuracy: 0.9883\n",
      "Epoch 59/60\n",
      "773/773 [==============================] - 31s 38ms/step - loss: 0.0305 - accuracy: 0.9896 - val_loss: 0.0620 - val_accuracy: 0.9789\n",
      "Epoch 60/60\n",
      "773/773 [==============================] - 32s 39ms/step - loss: 0.0334 - accuracy: 0.9895 - val_loss: 0.1770 - val_accuracy: 0.9537\n"
     ]
    }
   ],
   "source": [
    "history=model.fit(traindata_generator,epochs=60,validation_data=validationdata_generator,callbacks=[callback])"
   ]
  },
  {
   "cell_type": "code",
   "execution_count": 19,
   "metadata": {},
   "outputs": [
    {
     "data": {
      "image/png": "[encoded data removed]",
      "text/plain": [
       "<Figure size 640x480 with 1 Axes>"
      ]
     },
     "metadata": {},
     "output_type": "display_data"
    },
    {
     "data": {
      "image/png": "[encoded data removed]",
      "text/plain": [
       "<Figure size 640x480 with 1 Axes>"
      ]
     },
     "metadata": {},
     "output_type": "display_data"
    }
   ],
   "source": [
    "acc = history.history['accuracy']\n",
    "val_acc = history.history['val_accuracy']\n",
    "loss = history.history['loss']\n",
    "val_loss = history.history['val_loss']\n",
    "\n",
    "epochs = range(len(acc))\n",
    "\n",
    "plt.plot(epochs, acc, 'r', label='Training accuracy')\n",
    "plt.plot(epochs, val_acc, 'b', label='Validation accuracy')\n",
    "plt.title('Training and validation accuracy')\n",
    "plt.legend()\n",
    "plt.figure()\n",
    "\n",
    "plt.plot(epochs, loss, 'r', label='Training Loss')\n",
    "plt.plot(epochs, val_loss, 'b', label='Validation Loss')\n",
    "plt.title('Training and validation loss')\n",
    "plt.legend()\n",
    "\n",
    "plt.show()"
   ]
  },
  {
   "cell_type": "code",
   "execution_count": 20,
   "metadata": {},
   "outputs": [
    {
     "name": "stderr",
     "output_type": "stream",
     "text": [
      "C:\\Users\\ragha\\AppData\\Local\\Temp\\ipykernel_25876\\141321762.py:1: UserWarning: `Model.evaluate_generator` is deprecated and will be removed in a future version. Please use `Model.evaluate`, which supports generators.\n",
      "  print(\"test accuracy: \"+ str(model.evaluate_generator(testdata_generator)[1]*100))\n"
     ]
    },
    {
     "name": "stdout",
     "output_type": "stream",
     "text": [
      "test accuracy: 95.8310067653656\n"
     ]
    }
   ],
   "source": [
    "print(\"test accuracy: \"+ str(model.evaluate_generator(testdata_generator)[1]*100))"
   ]
  },
  {
   "cell_type": "code",
   "execution_count": null,
   "metadata": {},
   "outputs": [],
   "source": [
    "model.save('models/model6.h5')"
   ]
  }
 ],
 "metadata": {
  "kernelspec": {
   "display_name": "Python 3.9.12 ('gdalpip')",
   "language": "python",
   "name": "python3"
  },
  "language_info": {
   "codemirror_mode": {
    "name": "ipython",
    "version": 3
   },
   "file_extension": ".py",
   "mimetype": "text/x-python",
   "name": "python",
   "nbconvert_exporter": "python",
   "pygments_lexer": "ipython3",
   "version": "3.9.12"
  },
  "vscode": {
   "interpreter": {
    "hash": "17cf10c51dbaa30b7418865ccea7f7044bf7ad3d0e34897ca85d6c48629dbc7b"
   }
  }
 },
 "nbformat": 4,
 "nbformat_minor": 2
}
