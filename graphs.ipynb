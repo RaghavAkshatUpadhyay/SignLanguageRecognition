{
 "cells": [
  {
   "cell_type": "code",
   "execution_count": 1,
   "metadata": {},
   "outputs": [
    {
     "name": "stderr",
     "output_type": "stream",
     "text": [
      "2022-11-06 22:27:54.631373: I tensorflow/core/platform/cpu_feature_guard.cc:193] This TensorFlow binary is optimized with oneAPI Deep Neural Network Library (oneDNN) to use the following CPU instructions in performance-critical operations:  SSE4.1 SSE4.2\n",
      "To enable them in other operations, rebuild TensorFlow with the appropriate compiler flags.\n"
     ]
    }
   ],
   "source": [
    "from keras.models import load_model\n",
    "import tensorflow as tf\n",
    "import keras\n",
    "from keras.callbacks import *\n",
    "import numpy as np\n",
    "import pandas as pd\n",
    "import matplotlib.pyplot as plt\n",
    "from keras.models import Sequential\n",
    "from keras.layers import *"
   ]
  },
  {
   "cell_type": "code",
   "execution_count": 19,
   "metadata": {},
   "outputs": [
    {
     "name": "stdout",
     "output_type": "stream",
     "text": [
      "models/model1.h5\n"
     ]
    },
    {
     "name": "stderr",
     "output_type": "stream",
     "text": [
      "/var/folders/s_/9hg8w5114qg8j3k5bh9xnv0w0000gn/T/ipykernel_96742/1298354649.py:25: UserWarning: `Model.evaluate_generator` is deprecated and will be removed in a future version. Please use `Model.evaluate`, which supports generators.\n",
      "  print(\"test accuracy: \"+ str(model.evaluate_generator(testdata_generator)[1]*100))\n"
     ]
    },
    {
     "name": "stdout",
     "output_type": "stream",
     "text": [
      "test accuracy: 97.03011512756348\n"
     ]
    },
    {
     "name": "stderr",
     "output_type": "stream",
     "text": [
      "/var/folders/s_/9hg8w5114qg8j3k5bh9xnv0w0000gn/T/ipykernel_96742/1298354649.py:26: UserWarning: `Model.evaluate_generator` is deprecated and will be removed in a future version. Please use `Model.evaluate`, which supports generators.\n",
      "  print(\"train accuracy: \"+ str(model.evaluate_generator(testdata_generator)[1]*100))\n"
     ]
    },
    {
     "name": "stdout",
     "output_type": "stream",
     "text": [
      "train accuracy: 97.03011512756348\n",
      "models/model2.h5\n"
     ]
    },
    {
     "name": "stderr",
     "output_type": "stream",
     "text": [
      "/var/folders/s_/9hg8w5114qg8j3k5bh9xnv0w0000gn/T/ipykernel_96742/1298354649.py:25: UserWarning: `Model.evaluate_generator` is deprecated and will be removed in a future version. Please use `Model.evaluate`, which supports generators.\n",
      "  print(\"test accuracy: \"+ str(model.evaluate_generator(testdata_generator)[1]*100))\n"
     ]
    },
    {
     "name": "stdout",
     "output_type": "stream",
     "text": [
      "test accuracy: 42.986613512039185\n"
     ]
    },
    {
     "name": "stderr",
     "output_type": "stream",
     "text": [
      "/var/folders/s_/9hg8w5114qg8j3k5bh9xnv0w0000gn/T/ipykernel_96742/1298354649.py:26: UserWarning: `Model.evaluate_generator` is deprecated and will be removed in a future version. Please use `Model.evaluate`, which supports generators.\n",
      "  print(\"train accuracy: \"+ str(model.evaluate_generator(testdata_generator)[1]*100))\n"
     ]
    },
    {
     "name": "stdout",
     "output_type": "stream",
     "text": [
      "train accuracy: 42.986613512039185\n",
      "models/model3.h5\n"
     ]
    },
    {
     "name": "stderr",
     "output_type": "stream",
     "text": [
      "/var/folders/s_/9hg8w5114qg8j3k5bh9xnv0w0000gn/T/ipykernel_96742/1298354649.py:25: UserWarning: `Model.evaluate_generator` is deprecated and will be removed in a future version. Please use `Model.evaluate`, which supports generators.\n",
      "  print(\"test accuracy: \"+ str(model.evaluate_generator(testdata_generator)[1]*100))\n"
     ]
    },
    {
     "name": "stdout",
     "output_type": "stream",
     "text": [
      "test accuracy: 96.82096838951111\n"
     ]
    },
    {
     "name": "stderr",
     "output_type": "stream",
     "text": [
      "/var/folders/s_/9hg8w5114qg8j3k5bh9xnv0w0000gn/T/ipykernel_96742/1298354649.py:26: UserWarning: `Model.evaluate_generator` is deprecated and will be removed in a future version. Please use `Model.evaluate`, which supports generators.\n",
      "  print(\"train accuracy: \"+ str(model.evaluate_generator(testdata_generator)[1]*100))\n"
     ]
    },
    {
     "name": "stdout",
     "output_type": "stream",
     "text": [
      "train accuracy: 96.82096838951111\n",
      "models/model4.h5\n"
     ]
    },
    {
     "name": "stderr",
     "output_type": "stream",
     "text": [
      "/var/folders/s_/9hg8w5114qg8j3k5bh9xnv0w0000gn/T/ipykernel_96742/1298354649.py:25: UserWarning: `Model.evaluate_generator` is deprecated and will be removed in a future version. Please use `Model.evaluate`, which supports generators.\n",
      "  print(\"test accuracy: \"+ str(model.evaluate_generator(testdata_generator)[1]*100))\n"
     ]
    },
    {
     "name": "stdout",
     "output_type": "stream",
     "text": [
      "test accuracy: 94.6040153503418\n"
     ]
    },
    {
     "name": "stderr",
     "output_type": "stream",
     "text": [
      "/var/folders/s_/9hg8w5114qg8j3k5bh9xnv0w0000gn/T/ipykernel_96742/1298354649.py:26: UserWarning: `Model.evaluate_generator` is deprecated and will be removed in a future version. Please use `Model.evaluate`, which supports generators.\n",
      "  print(\"train accuracy: \"+ str(model.evaluate_generator(testdata_generator)[1]*100))\n"
     ]
    },
    {
     "name": "stdout",
     "output_type": "stream",
     "text": [
      "train accuracy: 94.6040153503418\n",
      "models/model5.h5\n"
     ]
    },
    {
     "name": "stderr",
     "output_type": "stream",
     "text": [
      "/var/folders/s_/9hg8w5114qg8j3k5bh9xnv0w0000gn/T/ipykernel_96742/1298354649.py:25: UserWarning: `Model.evaluate_generator` is deprecated and will be removed in a future version. Please use `Model.evaluate`, which supports generators.\n",
      "  print(\"test accuracy: \"+ str(model.evaluate_generator(testdata_generator)[1]*100))\n"
     ]
    },
    {
     "name": "stdout",
     "output_type": "stream",
     "text": [
      "test accuracy: 98.98215532302856\n"
     ]
    },
    {
     "name": "stderr",
     "output_type": "stream",
     "text": [
      "/var/folders/s_/9hg8w5114qg8j3k5bh9xnv0w0000gn/T/ipykernel_96742/1298354649.py:26: UserWarning: `Model.evaluate_generator` is deprecated and will be removed in a future version. Please use `Model.evaluate`, which supports generators.\n",
      "  print(\"train accuracy: \"+ str(model.evaluate_generator(testdata_generator)[1]*100))\n"
     ]
    },
    {
     "name": "stdout",
     "output_type": "stream",
     "text": [
      "train accuracy: 98.98215532302856\n",
      "models/model6.h5\n"
     ]
    },
    {
     "name": "stderr",
     "output_type": "stream",
     "text": [
      "/var/folders/s_/9hg8w5114qg8j3k5bh9xnv0w0000gn/T/ipykernel_96742/1298354649.py:25: UserWarning: `Model.evaluate_generator` is deprecated and will be removed in a future version. Please use `Model.evaluate`, which supports generators.\n",
      "  print(\"test accuracy: \"+ str(model.evaluate_generator(testdata_generator)[1]*100))\n"
     ]
    },
    {
     "name": "stdout",
     "output_type": "stream",
     "text": [
      "test accuracy: 95.8310067653656\n"
     ]
    },
    {
     "name": "stderr",
     "output_type": "stream",
     "text": [
      "/var/folders/s_/9hg8w5114qg8j3k5bh9xnv0w0000gn/T/ipykernel_96742/1298354649.py:26: UserWarning: `Model.evaluate_generator` is deprecated and will be removed in a future version. Please use `Model.evaluate`, which supports generators.\n",
      "  print(\"train accuracy: \"+ str(model.evaluate_generator(testdata_generator)[1]*100))\n"
     ]
    },
    {
     "name": "stdout",
     "output_type": "stream",
     "text": [
      "train accuracy: 95.8310067653656\n",
      "models/model7.h5\n"
     ]
    },
    {
     "name": "stderr",
     "output_type": "stream",
     "text": [
      "/var/folders/s_/9hg8w5114qg8j3k5bh9xnv0w0000gn/T/ipykernel_96742/1298354649.py:25: UserWarning: `Model.evaluate_generator` is deprecated and will be removed in a future version. Please use `Model.evaluate`, which supports generators.\n",
      "  print(\"test accuracy: \"+ str(model.evaluate_generator(testdata_generator)[1]*100))\n"
     ]
    },
    {
     "name": "stdout",
     "output_type": "stream",
     "text": [
      "test accuracy: 98.24316501617432\n"
     ]
    },
    {
     "name": "stderr",
     "output_type": "stream",
     "text": [
      "/var/folders/s_/9hg8w5114qg8j3k5bh9xnv0w0000gn/T/ipykernel_96742/1298354649.py:26: UserWarning: `Model.evaluate_generator` is deprecated and will be removed in a future version. Please use `Model.evaluate`, which supports generators.\n",
      "  print(\"train accuracy: \"+ str(model.evaluate_generator(testdata_generator)[1]*100))\n"
     ]
    },
    {
     "name": "stdout",
     "output_type": "stream",
     "text": [
      "train accuracy: 98.24316501617432\n",
      "models/model8.h5\n"
     ]
    },
    {
     "name": "stderr",
     "output_type": "stream",
     "text": [
      "/var/folders/s_/9hg8w5114qg8j3k5bh9xnv0w0000gn/T/ipykernel_96742/1298354649.py:25: UserWarning: `Model.evaluate_generator` is deprecated and will be removed in a future version. Please use `Model.evaluate`, which supports generators.\n",
      "  print(\"test accuracy: \"+ str(model.evaluate_generator(testdata_generator)[1]*100))\n"
     ]
    },
    {
     "name": "stdout",
     "output_type": "stream",
     "text": [
      "test accuracy: 97.54601120948792\n"
     ]
    },
    {
     "name": "stderr",
     "output_type": "stream",
     "text": [
      "/var/folders/s_/9hg8w5114qg8j3k5bh9xnv0w0000gn/T/ipykernel_96742/1298354649.py:26: UserWarning: `Model.evaluate_generator` is deprecated and will be removed in a future version. Please use `Model.evaluate`, which supports generators.\n",
      "  print(\"train accuracy: \"+ str(model.evaluate_generator(testdata_generator)[1]*100))\n"
     ]
    },
    {
     "name": "stdout",
     "output_type": "stream",
     "text": [
      "train accuracy: 97.54601120948792\n",
      "models/model9.h5\n"
     ]
    },
    {
     "name": "stderr",
     "output_type": "stream",
     "text": [
      "/var/folders/s_/9hg8w5114qg8j3k5bh9xnv0w0000gn/T/ipykernel_96742/1298354649.py:25: UserWarning: `Model.evaluate_generator` is deprecated and will be removed in a future version. Please use `Model.evaluate`, which supports generators.\n",
      "  print(\"test accuracy: \"+ str(model.evaluate_generator(testdata_generator)[1]*100))\n"
     ]
    },
    {
     "name": "stdout",
     "output_type": "stream",
     "text": [
      "test accuracy: 98.63357543945312\n"
     ]
    },
    {
     "name": "stderr",
     "output_type": "stream",
     "text": [
      "/var/folders/s_/9hg8w5114qg8j3k5bh9xnv0w0000gn/T/ipykernel_96742/1298354649.py:26: UserWarning: `Model.evaluate_generator` is deprecated and will be removed in a future version. Please use `Model.evaluate`, which supports generators.\n",
      "  print(\"train accuracy: \"+ str(model.evaluate_generator(testdata_generator)[1]*100))\n"
     ]
    },
    {
     "name": "stdout",
     "output_type": "stream",
     "text": [
      "train accuracy: 98.63357543945312\n",
      "models/model10.h5\n"
     ]
    },
    {
     "name": "stderr",
     "output_type": "stream",
     "text": [
      "/var/folders/s_/9hg8w5114qg8j3k5bh9xnv0w0000gn/T/ipykernel_96742/1298354649.py:25: UserWarning: `Model.evaluate_generator` is deprecated and will be removed in a future version. Please use `Model.evaluate`, which supports generators.\n",
      "  print(\"test accuracy: \"+ str(model.evaluate_generator(testdata_generator)[1]*100))\n"
     ]
    },
    {
     "name": "stdout",
     "output_type": "stream",
     "text": [
      "test accuracy: 98.80089163780212\n"
     ]
    },
    {
     "name": "stderr",
     "output_type": "stream",
     "text": [
      "/var/folders/s_/9hg8w5114qg8j3k5bh9xnv0w0000gn/T/ipykernel_96742/1298354649.py:26: UserWarning: `Model.evaluate_generator` is deprecated and will be removed in a future version. Please use `Model.evaluate`, which supports generators.\n",
      "  print(\"train accuracy: \"+ str(model.evaluate_generator(testdata_generator)[1]*100))\n"
     ]
    },
    {
     "name": "stdout",
     "output_type": "stream",
     "text": [
      "train accuracy: 98.80089163780212\n",
      "models/model11.h5\n"
     ]
    },
    {
     "name": "stderr",
     "output_type": "stream",
     "text": [
      "/var/folders/s_/9hg8w5114qg8j3k5bh9xnv0w0000gn/T/ipykernel_96742/1298354649.py:25: UserWarning: `Model.evaluate_generator` is deprecated and will be removed in a future version. Please use `Model.evaluate`, which supports generators.\n",
      "  print(\"test accuracy: \"+ str(model.evaluate_generator(testdata_generator)[1]*100))\n"
     ]
    },
    {
     "name": "stdout",
     "output_type": "stream",
     "text": [
      "test accuracy: 97.57390022277832\n"
     ]
    },
    {
     "name": "stderr",
     "output_type": "stream",
     "text": [
      "/var/folders/s_/9hg8w5114qg8j3k5bh9xnv0w0000gn/T/ipykernel_96742/1298354649.py:26: UserWarning: `Model.evaluate_generator` is deprecated and will be removed in a future version. Please use `Model.evaluate`, which supports generators.\n",
      "  print(\"train accuracy: \"+ str(model.evaluate_generator(testdata_generator)[1]*100))\n"
     ]
    },
    {
     "name": "stdout",
     "output_type": "stream",
     "text": [
      "train accuracy: 97.57390022277832\n",
      "models/model12.h5\n"
     ]
    },
    {
     "name": "stderr",
     "output_type": "stream",
     "text": [
      "/var/folders/s_/9hg8w5114qg8j3k5bh9xnv0w0000gn/T/ipykernel_96742/1298354649.py:25: UserWarning: `Model.evaluate_generator` is deprecated and will be removed in a future version. Please use `Model.evaluate`, which supports generators.\n",
      "  print(\"test accuracy: \"+ str(model.evaluate_generator(testdata_generator)[1]*100))\n"
     ]
    },
    {
     "name": "stdout",
     "output_type": "stream",
     "text": [
      "test accuracy: 3.722810745239258\n"
     ]
    },
    {
     "name": "stderr",
     "output_type": "stream",
     "text": [
      "/var/folders/s_/9hg8w5114qg8j3k5bh9xnv0w0000gn/T/ipykernel_96742/1298354649.py:26: UserWarning: `Model.evaluate_generator` is deprecated and will be removed in a future version. Please use `Model.evaluate`, which supports generators.\n",
      "  print(\"train accuracy: \"+ str(model.evaluate_generator(testdata_generator)[1]*100))\n"
     ]
    },
    {
     "name": "stdout",
     "output_type": "stream",
     "text": [
      "train accuracy: 3.722810745239258\n",
      "models/model13.h5\n"
     ]
    },
    {
     "name": "stderr",
     "output_type": "stream",
     "text": [
      "/var/folders/s_/9hg8w5114qg8j3k5bh9xnv0w0000gn/T/ipykernel_96742/1298354649.py:25: UserWarning: `Model.evaluate_generator` is deprecated and will be removed in a future version. Please use `Model.evaluate`, which supports generators.\n",
      "  print(\"test accuracy: \"+ str(model.evaluate_generator(testdata_generator)[1]*100))\n"
     ]
    },
    {
     "name": "stdout",
     "output_type": "stream",
     "text": [
      "test accuracy: 99.81874227523804\n"
     ]
    },
    {
     "name": "stderr",
     "output_type": "stream",
     "text": [
      "/var/folders/s_/9hg8w5114qg8j3k5bh9xnv0w0000gn/T/ipykernel_96742/1298354649.py:26: UserWarning: `Model.evaluate_generator` is deprecated and will be removed in a future version. Please use `Model.evaluate`, which supports generators.\n",
      "  print(\"train accuracy: \"+ str(model.evaluate_generator(testdata_generator)[1]*100))\n"
     ]
    },
    {
     "name": "stdout",
     "output_type": "stream",
     "text": [
      "train accuracy: 99.81874227523804\n",
      "models/model14.h5\n"
     ]
    },
    {
     "name": "stderr",
     "output_type": "stream",
     "text": [
      "/var/folders/s_/9hg8w5114qg8j3k5bh9xnv0w0000gn/T/ipykernel_96742/1298354649.py:25: UserWarning: `Model.evaluate_generator` is deprecated and will be removed in a future version. Please use `Model.evaluate`, which supports generators.\n",
      "  print(\"test accuracy: \"+ str(model.evaluate_generator(testdata_generator)[1]*100))\n"
     ]
    },
    {
     "name": "stdout",
     "output_type": "stream",
     "text": [
      "test accuracy: 100.0\n"
     ]
    },
    {
     "name": "stderr",
     "output_type": "stream",
     "text": [
      "/var/folders/s_/9hg8w5114qg8j3k5bh9xnv0w0000gn/T/ipykernel_96742/1298354649.py:26: UserWarning: `Model.evaluate_generator` is deprecated and will be removed in a future version. Please use `Model.evaluate`, which supports generators.\n",
      "  print(\"train accuracy: \"+ str(model.evaluate_generator(testdata_generator)[1]*100))\n"
     ]
    },
    {
     "name": "stdout",
     "output_type": "stream",
     "text": [
      "train accuracy: 100.0\n"
     ]
    }
   ],
   "source": [
    "string='models/model'\n",
    "x=['1.h5','2.h5','3.h5','4.h5','5.h5','6.h5','7.h5','8.h5','9.h5','10.h5','11.h5','12.h5','13.h5','14.h5']\n",
    "\n",
    "for i in x:\n",
    "    string=string+i\n",
    "    print(string)\n",
    "    model = load_model(string)\n",
    "    traindata = pd.read_csv('sign_mnist_train.csv')\n",
    "    trainlabel=traindata['label'].values\n",
    "    traindata.drop('label',inplace=True,axis=1)\n",
    "    trainimages = traindata.values\n",
    "    trainimages=trainimages.reshape(-1,28,28,1)\n",
    "    testdata = pd.read_csv('sign_mnist_test.csv')\n",
    "    testlabel=testdata['label'].values\n",
    "    testdata.drop('label',inplace=True,axis=1)\n",
    "    testimages = testdata.values\n",
    "    testimages=testimages.reshape(-1,28,28,1)\n",
    "    from keras.preprocessing.image import ImageDataGenerator\n",
    "    traingen=ImageDataGenerator(rotation_range=20,zoom_range=0.1,width_shift_range=0.1,height_shift_range=0.1,\n",
    "                  shear_range=0.1,horizontal_flip=True,rescale=1/255.0,validation_split=0.1)\n",
    "    traindata_generator = traingen.flow(trainimages,trainlabel,subset='training')\n",
    "    validationdata_generator = traingen.flow(trainimages,trainlabel,subset='validation')\n",
    "    testgen=ImageDataGenerator(rescale=1/255.0)\n",
    "    testdata_generator = testgen.flow(testimages,testlabel)\n",
    "    print(\"test accuracy: \"+ str(model.evaluate_generator(testdata_generator)[1]*100))\n",
    "    print(\"train accuracy: \"+ str(model.evaluate_generator(testdata_generator)[1]*100))\n",
    "    \n",
    "    string='models/model'"
   ]
  },
  {
   "cell_type": "code",
   "execution_count": null,
   "metadata": {},
   "outputs": [],
   "source": []
  },
  {
   "cell_type": "code",
   "execution_count": 5,
   "metadata": {},
   "outputs": [
    {
     "name": "stderr",
     "output_type": "stream",
     "text": [
      "/var/folders/s_/9hg8w5114qg8j3k5bh9xnv0w0000gn/T/ipykernel_96742/1834710830.py:8: UserWarning: `Model.evaluate_generator` is deprecated and will be removed in a future version. Please use `Model.evaluate`, which supports generators.\n",
      "  print(\"test accuracy: \"+ str(model.evaluate_generator(testdata_generator)[1]*100))\n"
     ]
    },
    {
     "name": "stdout",
     "output_type": "stream",
     "text": [
      "test accuracy: 97.03011512756348\n"
     ]
    }
   ],
   "source": [
    "from keras.preprocessing.image import ImageDataGenerator\n",
    "traingen=ImageDataGenerator(rotation_range=20,zoom_range=0.1,width_shift_range=0.1,height_shift_range=0.1,\n",
    "                  shear_range=0.1,horizontal_flip=True,rescale=1/255.0,validation_split=0.1)\n",
    "traindata_generator = traingen.flow(trainimages,trainlabel,subset='training')\n",
    "validationdata_generator = traingen.flow(trainimages,trainlabel,subset='validation')\n",
    "testgen=ImageDataGenerator(rescale=1/255.0)\n",
    "testdata_generator = testgen.flow(testimages,testlabel)\n",
    "print(\"test accuracy: \"+ str(model.evaluate_generator(testdata_generator)[1]*100))"
   ]
  },
  {
   "cell_type": "code",
   "execution_count": 2,
   "metadata": {},
   "outputs": [
    {
     "data": {
      "image/png": "[encoded data removed]",
      "text/plain": [
       "<Figure size 640x480 with 1 Axes>"
      ]
     },
     "metadata": {},
     "output_type": "display_data"
    }
   ],
   "source": [
    "#model3isaugmentationand4isbatchnormalization\n",
    "from matplotlib import pyplot as plt\n",
    "modelno=[1,2,3,4,5,6,7,8,9,10,11,12,13,14,15]\n",
    "training_accuracy_list=[97.20,100.00,94.96,100.00,94.40,99.18,98.95,94.08,84.49,98.06,89.92,92.85,100.0,99.06,98.95]\n",
    "testing_accuracy_list=[98.33,91.18,96.82,95.13,94.60,98.98,95.83,98.24,97.54,98.63,98.80,97.57,96.29,98.75,95.00]\n",
    "plt.bar(modelno,training_accuracy_list)\n",
    "plt.xlabel(\"Model-number\")\n",
    "plt.ylabel(\"Training-accuracy\")\n",
    "plt.title(\"Training-accuracy vs Model-number\")\n",
    "plt.show()"
   ]
  },
  {
   "cell_type": "code",
   "execution_count": 3,
   "metadata": {},
   "outputs": [
    {
     "data": {
      "image/png": "[encoded data removed]",
      "text/plain": [
       "<Figure size 640x480 with 1 Axes>"
      ]
     },
     "metadata": {},
     "output_type": "display_data"
    }
   ],
   "source": [
    "#model3isaugmentationand4isbatchnormalization\n",
    "from matplotlib import pyplot as plt\n",
    "modelno=[1,2,3,4,5,6,7,8,9,10,11,12,13,14,15]\n",
    "training_accuracy_list=[97.20,100.00,94.96,100.00,94.40,99.18,98.95,94.08,84.49,98.06,89.92,92.85,100.0,99.06,98.95]\n",
    "testing_accuracy_list=[98.33,91.18,96.82,95.13,94.60,98.98,95.83,98.24,97.54,98.63,98.80,97.57,96.29,98.75,95.00]\n",
    "plt.bar(modelno,testing_accuracy_list)\n",
    "plt.xlabel(\"Model-number\")\n",
    "plt.ylabel(\"Testing-accuracy\")\n",
    "plt.title(\"Testing accuracy vs Model number\")\n",
    "plt.show()"
   ]
  }
 ],
 "metadata": {
  "kernelspec": {
   "display_name": "Python 3.9.12 ('gdalpip')",
   "language": "python",
   "name": "python3"
  },
  "language_info": {
   "codemirror_mode": {
    "name": "ipython",
    "version": 3
   },
   "file_extension": ".py",
   "mimetype": "text/x-python",
   "name": "python",
   "nbconvert_exporter": "python",
   "pygments_lexer": "ipython3",
   "version": "3.9.12"
  },
  "orig_nbformat": 4,
  "vscode": {
   "interpreter": {
    "hash": "17cf10c51dbaa30b7418865ccea7f7044bf7ad3d0e34897ca85d6c48629dbc7b"
   }
  }
 },
 "nbformat": 4,
 "nbformat_minor": 2
}
