{
 "cells": [
  {
   "cell_type": "code",
   "execution_count": 1,
   "metadata": {},
   "outputs": [],
   "source": [
    "import tensorflow as tf\n",
    "import keras\n",
    "from keras.callbacks import *\n",
    "import numpy as np\n",
    "import pandas as pd\n",
    "import matplotlib.pyplot as plt\n",
    "from keras.models import Sequential\n",
    "from keras.layers import *"
   ]
  },
  {
   "cell_type": "code",
   "execution_count": 2,
   "metadata": {},
   "outputs": [],
   "source": [
    "traindata = pd.read_csv('sign_mnist_train.csv')"
   ]
  },
  {
   "cell_type": "code",
   "execution_count": 3,
   "metadata": {},
   "outputs": [],
   "source": [
    "trainlabel=traindata['label'].values"
   ]
  },
  {
   "cell_type": "code",
   "execution_count": 4,
   "metadata": {},
   "outputs": [],
   "source": [
    "traindata.drop('label',inplace=True,axis=1)\n",
    "trainimages = traindata.values"
   ]
  },
  {
   "cell_type": "code",
   "execution_count": 5,
   "metadata": {},
   "outputs": [],
   "source": [
    "trainimages=trainimages.reshape(-1,28,28,1)"
   ]
  },
  {
   "cell_type": "code",
   "execution_count": 6,
   "metadata": {},
   "outputs": [],
   "source": [
    "testdata = pd.read_csv('sign_mnist_test.csv')"
   ]
  },
  {
   "cell_type": "code",
   "execution_count": 7,
   "metadata": {},
   "outputs": [],
   "source": [
    "testlabel=testdata['label'].values"
   ]
  },
  {
   "cell_type": "code",
   "execution_count": 8,
   "metadata": {},
   "outputs": [],
   "source": [
    "testdata.drop('label',inplace=True,axis=1)\n",
    "testimages = testdata.values"
   ]
  },
  {
   "cell_type": "code",
   "execution_count": 9,
   "metadata": {},
   "outputs": [],
   "source": [
    "testimages=testimages.reshape(-1,28,28,1)"
   ]
  },
  {
   "cell_type": "code",
   "execution_count": 10,
   "metadata": {},
   "outputs": [],
   "source": [
    "from keras.preprocessing.image import ImageDataGenerator"
   ]
  },
  {
   "cell_type": "markdown",
   "metadata": {},
   "source": [
    "shear_range is different different to change augmentation validation split is differet that allows us to randomly split a subset of your training data into a validation set"
   ]
  },
  {
   "cell_type": "code",
   "execution_count": 11,
   "metadata": {},
   "outputs": [],
   "source": [
    "traingen=ImageDataGenerator(rotation_range=20,zoom_range=0.1,width_shift_range=0.1,height_shift_range=0.1,\n",
    "                  shear_range=0.1,horizontal_flip=True,rescale=1/255.0,validation_split=0.1)"
   ]
  },
  {
   "cell_type": "code",
   "execution_count": 12,
   "metadata": {},
   "outputs": [],
   "source": [
    "traindata_generator = traingen.flow(trainimages,trainlabel,subset='training')\n",
    "validationdata_generator = traingen.flow(trainimages,trainlabel,subset='validation')"
   ]
  },
  {
   "cell_type": "code",
   "execution_count": 13,
   "metadata": {},
   "outputs": [],
   "source": [
    "testgen=ImageDataGenerator(rescale=1/255.0)\n",
    "testdata_generator = testgen.flow(testimages,testlabel)"
   ]
  },
  {
   "cell_type": "code",
   "execution_count": 14,
   "metadata": {},
   "outputs": [],
   "source": [
    "model=Sequential([])\n",
    "\n",
    "model.add(Conv2D(64,(3,3),activation=\"relu\",input_shape=(28,28,1)))\n",
    "model.add(BatchNormalization())\n",
    "# model.add(Conv2D(64,(3,3),activation=\"relu\"))\n",
    "# model.add(BatchNormalization())\n",
    "model.add(MaxPooling2D(2,2))\n",
    "#model.add(Dropout(0.4))\n",
    "\n",
    "model.add(Conv2D(128,(3,3),activation=\"relu\"))\n",
    "model.add(BatchNormalization())\n",
    "# model.add(Conv2D(128,(3,3),activation=\"relu\"))\n",
    "# model.add(BatchNormalization())\n",
    "model.add(MaxPooling2D(2,2))\n",
    "#model.add(Dropout(0.4))\n",
    "\n",
    "model.add(Flatten())\n",
    "model.add(BatchNormalization())\n",
    "#model.add(Dropout(0.4))\n",
    "model.add(Dense(256,activation=\"relu\"))\n",
    "model.add(BatchNormalization())\n",
    "#model.add(Dropout(0.4))\n",
    "model.add(Dense(26,activation=\"softmax\"))\n"
   ]
  },
  {
   "cell_type": "code",
   "execution_count": 15,
   "metadata": {},
   "outputs": [],
   "source": [
    "model.compile(loss=\"sparse_categorical_crossentropy\",optimizer='adam',metrics=['accuracy'])"
   ]
  },
  {
   "cell_type": "code",
   "execution_count": 16,
   "metadata": {},
   "outputs": [
    {
     "name": "stdout",
     "output_type": "stream",
     "text": [
      "Model: \"sequential\"\n",
      "_________________________________________________________________\n",
      " Layer (type)                Output Shape              Param #   \n",
      "=================================================================\n",
      " conv2d (Conv2D)             (None, 26, 26, 64)        640       \n",
      "                                                                 \n",
      " batch_normalization (BatchN  (None, 26, 26, 64)       256       \n",
      " ormalization)                                                   \n",
      "                                                                 \n",
      " max_pooling2d (MaxPooling2D  (None, 13, 13, 64)       0         \n",
      " )                                                               \n",
      "                                                                 \n",
      " conv2d_1 (Conv2D)           (None, 11, 11, 128)       73856     \n",
      "                                                                 \n",
      " batch_normalization_1 (Batc  (None, 11, 11, 128)      512       \n",
      " hNormalization)                                                 \n",
      "                                                                 \n",
      " max_pooling2d_1 (MaxPooling  (None, 5, 5, 128)        0         \n",
      " 2D)                                                             \n",
      "                                                                 \n",
      " flatten (Flatten)           (None, 3200)              0         \n",
      "                                                                 \n",
      " batch_normalization_2 (Batc  (None, 3200)             12800     \n",
      " hNormalization)                                                 \n",
      "                                                                 \n",
      " dense (Dense)               (None, 256)               819456    \n",
      "                                                                 \n",
      " batch_normalization_3 (Batc  (None, 256)              1024      \n",
      " hNormalization)                                                 \n",
      "                                                                 \n",
      " dense_1 (Dense)             (None, 26)                6682      \n",
      "                                                                 \n",
      "=================================================================\n",
      "Total params: 915,226\n",
      "Trainable params: 907,930\n",
      "Non-trainable params: 7,296\n",
      "_________________________________________________________________\n"
     ]
    }
   ],
   "source": [
    "model.summary()"
   ]
  },
  {
   "cell_type": "code",
   "execution_count": 17,
   "metadata": {},
   "outputs": [],
   "source": [
    "# Define a Callback class that stops training once accuracy reaches 97.0%\n",
    "class myCallback(Callback):\n",
    "  def on_epoch_end(self, epoch, logs={}):\n",
    "    if(logs.get('val_accuracy')>0.995):\n",
    "      print(\"\\nReached 99.5% accuracy so cancelling training!\")\n",
    "      self.model.stop_training = True\n",
    "callback=myCallback()"
   ]
  },
  {
   "cell_type": "code",
   "execution_count": 18,
   "metadata": {},
   "outputs": [
    {
     "name": "stdout",
     "output_type": "stream",
     "text": [
      "Epoch 1/50\n",
      "773/773 [==============================] - 42s 52ms/step - loss: 0.9236 - accuracy: 0.7161 - val_loss: 1.0951 - val_accuracy: 0.6499\n",
      "Epoch 2/50\n",
      "773/773 [==============================] - 25s 33ms/step - loss: 0.3082 - accuracy: 0.9040 - val_loss: 0.2764 - val_accuracy: 0.9122\n",
      "Epoch 3/50\n",
      "773/773 [==============================] - 28s 36ms/step - loss: 0.2036 - accuracy: 0.9352 - val_loss: 12.3221 - val_accuracy: 0.3475\n",
      "Epoch 4/50\n",
      "773/773 [==============================] - 26s 33ms/step - loss: 0.1774 - accuracy: 0.9444 - val_loss: 3.3334 - val_accuracy: 0.6310\n",
      "Epoch 5/50\n",
      "773/773 [==============================] - 26s 33ms/step - loss: 0.1357 - accuracy: 0.9549 - val_loss: 0.1690 - val_accuracy: 0.9428\n",
      "Epoch 6/50\n",
      "773/773 [==============================] - 24s 31ms/step - loss: 0.1179 - accuracy: 0.9606 - val_loss: 0.3048 - val_accuracy: 0.9038\n",
      "Epoch 7/50\n",
      "773/773 [==============================] - 24s 31ms/step - loss: 0.1068 - accuracy: 0.9645 - val_loss: 1.1908 - val_accuracy: 0.7727\n",
      "Epoch 8/50\n",
      "773/773 [==============================] - 24s 31ms/step - loss: 0.0872 - accuracy: 0.9726 - val_loss: 0.5626 - val_accuracy: 0.8379\n",
      "Epoch 9/50\n",
      "773/773 [==============================] - 23s 30ms/step - loss: 0.0958 - accuracy: 0.9675 - val_loss: 0.5449 - val_accuracy: 0.8721\n",
      "Epoch 10/50\n",
      "773/773 [==============================] - 23s 30ms/step - loss: 0.1172 - accuracy: 0.9621 - val_loss: 0.2737 - val_accuracy: 0.9115\n",
      "Epoch 11/50\n",
      "773/773 [==============================] - 25s 32ms/step - loss: 0.0766 - accuracy: 0.9753 - val_loss: 0.5378 - val_accuracy: 0.8244\n",
      "Epoch 12/50\n",
      "773/773 [==============================] - 28s 36ms/step - loss: 0.0722 - accuracy: 0.9765 - val_loss: 0.0708 - val_accuracy: 0.9741\n",
      "Epoch 13/50\n",
      "773/773 [==============================] - 43s 56ms/step - loss: 0.0595 - accuracy: 0.9804 - val_loss: 0.1443 - val_accuracy: 0.9537\n",
      "Epoch 14/50\n",
      "773/773 [==============================] - 37s 48ms/step - loss: 0.0715 - accuracy: 0.9760 - val_loss: 10.8838 - val_accuracy: 0.2383\n",
      "Epoch 15/50\n",
      "773/773 [==============================] - 29s 38ms/step - loss: 0.0723 - accuracy: 0.9761 - val_loss: 15.1922 - val_accuracy: 0.3792\n",
      "Epoch 16/50\n",
      "773/773 [==============================] - 29s 37ms/step - loss: 0.0502 - accuracy: 0.9830 - val_loss: 635.4355 - val_accuracy: 0.0313\n",
      "Epoch 17/50\n",
      "773/773 [==============================] - 29s 37ms/step - loss: 0.0582 - accuracy: 0.9798 - val_loss: 0.2909 - val_accuracy: 0.9315\n",
      "Epoch 18/50\n",
      "773/773 [==============================] - 30s 38ms/step - loss: 0.0553 - accuracy: 0.9816 - val_loss: 0.0494 - val_accuracy: 0.9818\n",
      "Epoch 19/50\n",
      "773/773 [==============================] - 28s 37ms/step - loss: 0.0470 - accuracy: 0.9844 - val_loss: 3.5889 - val_accuracy: 0.8936\n",
      "Epoch 20/50\n",
      "773/773 [==============================] - 29s 38ms/step - loss: 0.0487 - accuracy: 0.9842 - val_loss: 0.1625 - val_accuracy: 0.9585\n",
      "Epoch 21/50\n",
      "773/773 [==============================] - 28s 36ms/step - loss: 0.0456 - accuracy: 0.9847 - val_loss: 0.2309 - val_accuracy: 0.9483\n",
      "Epoch 22/50\n",
      "773/773 [==============================] - 28s 37ms/step - loss: 0.0377 - accuracy: 0.9869 - val_loss: 0.0892 - val_accuracy: 0.9749\n",
      "Epoch 23/50\n",
      "773/773 [==============================] - 29s 38ms/step - loss: 0.0362 - accuracy: 0.9870 - val_loss: 0.0182 - val_accuracy: 0.9934\n",
      "Epoch 24/50\n",
      "773/773 [==============================] - 27s 35ms/step - loss: 0.0379 - accuracy: 0.9872 - val_loss: 0.7505 - val_accuracy: 0.8055\n",
      "Epoch 25/50\n",
      "773/773 [==============================] - 28s 36ms/step - loss: 0.0392 - accuracy: 0.9867 - val_loss: 0.0295 - val_accuracy: 0.9916\n",
      "Epoch 26/50\n",
      "773/773 [==============================] - 31s 40ms/step - loss: 0.0385 - accuracy: 0.9877 - val_loss: 0.3794 - val_accuracy: 0.8871\n",
      "Epoch 27/50\n",
      "773/773 [==============================] - 28s 36ms/step - loss: 0.0344 - accuracy: 0.9885 - val_loss: 0.1059 - val_accuracy: 0.9690\n",
      "Epoch 28/50\n",
      "773/773 [==============================] - 29s 37ms/step - loss: 0.0347 - accuracy: 0.9888 - val_loss: 0.4501 - val_accuracy: 0.8765\n",
      "Epoch 29/50\n",
      "773/773 [==============================] - 29s 37ms/step - loss: 0.0368 - accuracy: 0.9877 - val_loss: 1.0467 - val_accuracy: 0.7559\n",
      "Epoch 30/50\n",
      "773/773 [==============================] - 35s 46ms/step - loss: 0.0349 - accuracy: 0.9884 - val_loss: 0.1031 - val_accuracy: 0.9814\n",
      "Epoch 31/50\n",
      "773/773 [==============================] - 44s 57ms/step - loss: 0.0320 - accuracy: 0.9890 - val_loss: 0.3894 - val_accuracy: 0.9020\n",
      "Epoch 32/50\n",
      "773/773 [==============================] - 31s 40ms/step - loss: 0.0355 - accuracy: 0.9885 - val_loss: 1.8975 - val_accuracy: 0.6342\n",
      "Epoch 33/50\n",
      "773/773 [==============================] - 25s 32ms/step - loss: 0.0392 - accuracy: 0.9875 - val_loss: 45.6040 - val_accuracy: 0.3508\n",
      "Epoch 34/50\n",
      "773/773 [==============================] - 26s 33ms/step - loss: 0.0366 - accuracy: 0.9878 - val_loss: 0.1915 - val_accuracy: 0.9428\n",
      "Epoch 35/50\n",
      "773/773 [==============================] - 27s 34ms/step - loss: 0.0296 - accuracy: 0.9901 - val_loss: 0.7426 - val_accuracy: 0.8342\n",
      "Epoch 36/50\n",
      "773/773 [==============================] - 25s 32ms/step - loss: 0.0292 - accuracy: 0.9896 - val_loss: 0.0252 - val_accuracy: 0.9920\n",
      "Epoch 37/50\n",
      "773/773 [==============================] - 26s 33ms/step - loss: 0.0309 - accuracy: 0.9896 - val_loss: 0.0946 - val_accuracy: 0.9854\n",
      "Epoch 38/50\n",
      "773/773 [==============================] - 26s 33ms/step - loss: 0.0294 - accuracy: 0.9906 - val_loss: 0.0454 - val_accuracy: 0.9854\n",
      "Epoch 39/50\n",
      "773/773 [==============================] - 25s 32ms/step - loss: 0.0263 - accuracy: 0.9913 - val_loss: 0.0152 - val_accuracy: 0.9949\n",
      "Epoch 40/50\n",
      "773/773 [==============================] - 26s 33ms/step - loss: 0.0255 - accuracy: 0.9910 - val_loss: 0.1594 - val_accuracy: 0.9577\n",
      "Epoch 41/50\n",
      "773/773 [==============================] - 27s 34ms/step - loss: 0.0262 - accuracy: 0.9916 - val_loss: 0.0384 - val_accuracy: 0.9869\n",
      "Epoch 42/50\n",
      "773/773 [==============================] - 25s 33ms/step - loss: 0.0265 - accuracy: 0.9913 - val_loss: 0.7559 - val_accuracy: 0.8517\n",
      "Epoch 43/50\n",
      "773/773 [==============================] - 28s 36ms/step - loss: 0.0234 - accuracy: 0.9918 - val_loss: 0.0499 - val_accuracy: 0.9847\n",
      "Epoch 44/50\n",
      "773/773 [==============================] - 25s 32ms/step - loss: 0.0296 - accuracy: 0.9903 - val_loss: 0.0309 - val_accuracy: 0.9894\n",
      "Epoch 45/50\n",
      "773/773 [==============================] - 25s 32ms/step - loss: 0.0197 - accuracy: 0.9934 - val_loss: 0.0815 - val_accuracy: 0.9709\n",
      "Epoch 46/50\n",
      "773/773 [==============================] - 24s 31ms/step - loss: 0.0263 - accuracy: 0.9910 - val_loss: 37.4282 - val_accuracy: 0.3734\n",
      "Epoch 47/50\n",
      "773/773 [==============================] - 25s 32ms/step - loss: 0.0342 - accuracy: 0.9893 - val_loss: 0.0307 - val_accuracy: 0.9920\n",
      "Epoch 48/50\n",
      "773/773 [==============================] - 25s 33ms/step - loss: 0.0217 - accuracy: 0.9930 - val_loss: 0.0737 - val_accuracy: 0.9763\n",
      "Epoch 49/50\n",
      "773/773 [==============================] - 26s 34ms/step - loss: 0.0184 - accuracy: 0.9936 - val_loss: 3.1287 - val_accuracy: 0.8641\n",
      "Epoch 50/50\n",
      "773/773 [==============================] - 27s 35ms/step - loss: 0.0259 - accuracy: 0.9918 - val_loss: 0.0741 - val_accuracy: 0.9756\n"
     ]
    }
   ],
   "source": [
    "history=model.fit(traindata_generator,epochs=50,validation_data=validationdata_generator,callbacks=[callback])"
   ]
  },
  {
   "cell_type": "code",
   "execution_count": 19,
   "metadata": {},
   "outputs": [
    {
     "data": {
      "image/png": "[encoded data removed]",
      "text/plain": [
       "<Figure size 640x480 with 1 Axes>"
      ]
     },
     "metadata": {},
     "output_type": "display_data"
    },
    {
     "data": {
      "image/png": "[encoded data removed]",
      "text/plain": [
       "<Figure size 640x480 with 1 Axes>"
      ]
     },
     "metadata": {},
     "output_type": "display_data"
    }
   ],
   "source": [
    "acc = history.history['accuracy']\n",
    "val_acc = history.history['val_accuracy']\n",
    "loss = history.history['loss']\n",
    "val_loss = history.history['val_loss']\n",
    "\n",
    "epochs = range(len(acc))\n",
    "\n",
    "plt.plot(epochs, acc, 'r', label='Training accuracy')\n",
    "plt.plot(epochs, val_acc, 'b', label='Validation accuracy')\n",
    "plt.title('Training and validation accuracy')\n",
    "plt.legend()\n",
    "plt.figure()\n",
    "\n",
    "plt.plot(epochs, loss, 'r', label='Training Loss')\n",
    "plt.plot(epochs, val_loss, 'b', label='Validation Loss')\n",
    "plt.title('Training and validation loss')\n",
    "plt.legend()\n",
    "\n",
    "plt.show()"
   ]
  },
  {
   "cell_type": "code",
   "execution_count": 20,
   "metadata": {},
   "outputs": [
    {
     "name": "stderr",
     "output_type": "stream",
     "text": [
      "C:\\Users\\ragha\\AppData\\Local\\Temp\\ipykernel_13208\\141321762.py:1: UserWarning: `Model.evaluate_generator` is deprecated and will be removed in a future version. Please use `Model.evaluate`, which supports generators.\n",
      "  print(\"test accuracy: \"+ str(model.evaluate_generator(testdata_generator)[1]*100))\n"
     ]
    },
    {
     "name": "stdout",
     "output_type": "stream",
     "text": [
      "test accuracy: 98.98215532302856\n"
     ]
    }
   ],
   "source": [
    "print(\"test accuracy: \"+ str(model.evaluate_generator(testdata_generator)[1]*100))"
   ]
  },
  {
   "cell_type": "code",
   "execution_count": 21,
   "metadata": {},
   "outputs": [],
   "source": [
    "model.save('models\\model5.h5')"
   ]
  }
 ],
 "metadata": {
  "kernelspec": {
   "display_name": "Python 3.8.5 ('base')",
   "language": "python",
   "name": "python3"
  },
  "language_info": {
   "codemirror_mode": {
    "name": "ipython",
    "version": 3
   },
   "file_extension": ".py",
   "mimetype": "text/x-python",
   "name": "python",
   "nbconvert_exporter": "python",
   "pygments_lexer": "ipython3",
   "version": "3.8.5"
  },
  "vscode": {
   "interpreter": {
    "hash": "0e1ba2cb90b67bcd353428316e85ecb688f2d197b359f390a2231e0f2efc1e69"
   }
  }
 },
 "nbformat": 4,
 "nbformat_minor": 2
}
